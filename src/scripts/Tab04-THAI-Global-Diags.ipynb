{
 "cells": [
  {
   "cell_type": "markdown",
   "id": "4f3690a8-2893-495d-b981-ef152b74a1f9",
   "metadata": {
    "tags": []
   },
   "source": [
    "# Calculate global-mean diagnostics of LFRic-Atmosphere THAI runs"
   ]
  },
  {
   "cell_type": "markdown",
   "id": "8d4be0bf-81d5-49e7-892f-9efe291ad602",
   "metadata": {},
   "source": [
    "## Import libraries"
   ]
  },
  {
   "cell_type": "markdown",
   "id": "e6777aa1-35d5-4022-ac3d-f8ee91fa024d",
   "metadata": {},
   "source": [
    "External libraries"
   ]
  },
  {
   "cell_type": "code",
   "execution_count": 1,
   "id": "9202caa8-1692-4f6d-a344-fb999df89e4c",
   "metadata": {},
   "outputs": [],
   "source": [
    "import pandas as pd"
   ]
  },
  {
   "cell_type": "code",
   "execution_count": 2,
   "id": "a5913922-31c3-4046-a2e6-40ac149b6876",
   "metadata": {},
   "outputs": [],
   "source": [
    "from aeolus.calc import bond_albedo, spatial_mean\n",
    "from aeolus.core import AtmoSim\n",
    "from aeolus.io import load_data\n",
    "from aeolus.model import lfric, um"
   ]
  },
  {
   "cell_type": "markdown",
   "id": "3704fae9-d7d3-48cb-837f-b2df35dbe890",
   "metadata": {},
   "source": [
    "Local modules"
   ]
  },
  {
   "cell_type": "code",
   "execution_count": 3,
   "id": "df4a3620-9525-4152-a2bc-b0aad7c16a3a",
   "metadata": {},
   "outputs": [],
   "source": [
    "import paths\n",
    "from shared import MODELS, THAI_CASES"
   ]
  },
  {
   "cell_type": "markdown",
   "id": "55b017e2-9e54-4765-875e-caa1d9445d44",
   "metadata": {},
   "source": [
    "## Load data"
   ]
  },
  {
   "cell_type": "code",
   "execution_count": 4,
   "id": "76e13637-0890-48b7-9638-00eee02c423a",
   "metadata": {
    "tags": []
   },
   "outputs": [],
   "source": [
    "# Skip UM (use numbers from the THAI papers instead)\n",
    "_ = MODELS.pop(\"um\")"
   ]
  },
  {
   "cell_type": "markdown",
   "id": "a3bff71b-4718-4017-a112-95528b57398a",
   "metadata": {},
   "source": [
    "Load LFRic-Atmosphere data for all 4 THAI cases and store it in a dictionary"
   ]
  },
  {
   "cell_type": "code",
   "execution_count": 5,
   "id": "00f6a1d6-f0f8-4673-95df-34dab80fe547",
   "metadata": {},
   "outputs": [],
   "source": [
    "runs = {}\n",
    "for model_key, model_prop in MODELS.items():\n",
    "    model = model_prop[\"model\"]\n",
    "    runs[model_key] = {}\n",
    "\n",
    "    for sim_label, sim_prop in THAI_CASES.items():\n",
    "        dset = load_data(\n",
    "            paths.data_final\n",
    "            / model_key\n",
    "            / sim_label\n",
    "            / f\"{sim_label}_{sim_prop['proc_fname_suffix']}_time_mean.nc\"\n",
    "        )\n",
    "\n",
    "        runs[model_key][sim_label] = AtmoSim(\n",
    "            dset,\n",
    "            name=sim_label,\n",
    "            vert_coord=\"z\",\n",
    "            planet=sim_prop[\"planet\"],\n",
    "            const_dir=paths.const,\n",
    "            model=model,\n",
    "        )"
   ]
  },
  {
   "cell_type": "markdown",
   "id": "b5a2f32f-e779-4e75-aeca-e8670c8ec9f4",
   "metadata": {},
   "source": [
    "## Apply diagnostics"
   ]
  },
  {
   "cell_type": "markdown",
   "id": "450b8ec2-2576-4efb-9fee-ef243e68365f",
   "metadata": {},
   "source": [
    "Define diagnostics and their metadata"
   ]
  },
  {
   "cell_type": "code",
   "execution_count": 6,
   "id": "861f0503-775a-46da-934f-6895f42a74e0",
   "metadata": {},
   "outputs": [],
   "source": [
    "DIAGS = {\n",
    "    \"t_sfc\": {\n",
    "        \"recipe\": lambda AS: spatial_mean(AS.t_sfc, model=lfric),\n",
    "        \"fmt\": lambda x: f\"{round(x):.0f}\",\n",
    "        \"title\": r\"T\\textsubscript{s}\",\n",
    "    },\n",
    "    \"toa_olr\": {\n",
    "        \"recipe\": lambda AS: spatial_mean(AS.toa_olr, model=lfric),\n",
    "        \"fmt\": lambda x: f\"{round(x):.0f}\",\n",
    "        \"title\": r\"TOA OLR\",\n",
    "    },\n",
    "    \"alb\": {\n",
    "        \"recipe\": lambda AS: spatial_mean(bond_albedo(AS._cubes, model=lfric)),\n",
    "        \"fmt\": lambda x: f\"{x:.2f}\",\n",
    "        \"title\": r\"$\\alpha_\\text{p}$\",\n",
    "    },\n",
    "}"
   ]
  },
  {
   "cell_type": "markdown",
   "id": "2b233ba6-af08-43ec-bb44-19ba26f2a275",
   "metadata": {},
   "source": [
    "Loop over cases, models, and diagnostics to populate a pandas `DataFrame`."
   ]
  },
  {
   "cell_type": "code",
   "execution_count": 7,
   "id": "d4c1b081-54e8-4994-a6cd-f08a5ffabea3",
   "metadata": {},
   "outputs": [],
   "source": [
    "results = {}\n",
    "for sim_label, sim_prop in THAI_CASES.items():\n",
    "    dfs = {}\n",
    "    for model_key, model_prop in MODELS.items():\n",
    "        model = model_prop[\"model\"]\n",
    "        _data = {}\n",
    "        for diag_key, diag_prop in DIAGS.items():\n",
    "            try:\n",
    "                _data[diag_prop[\"title\"]] = float(\n",
    "                    diag_prop[\"recipe\"](runs[model_key][sim_label]).data\n",
    "                )\n",
    "            except iris.exceptions.ConstraintMismatchError:\n",
    "                _data[diag_prop[\"title\"]] = pd.NA\n",
    "        dfs[model_prop[\"title\"]] = pd.DataFrame(\n",
    "            _data, index=pd.Index(name=\"GCM\", data=[model_prop[\"title\"]])\n",
    "        )\n",
    "    results[sim_label] = pd.concat(dfs, axis=\"index\").droplevel(0).T"
   ]
  },
  {
   "cell_type": "markdown",
   "id": "6180f732-5864-470a-9a19-2003c54c5e98",
   "metadata": {},
   "source": [
    "Print out the `DataFrame` as a LaTeX table"
   ]
  },
  {
   "cell_type": "code",
   "execution_count": 8,
   "id": "c4e3dbf8-3f2e-4f56-92c4-98d023960c6d",
   "metadata": {},
   "outputs": [
    {
     "name": "stdout",
     "output_type": "stream",
     "text": [
      "{} & \\multicolumn{3}{c}{Ben 1} \\\\\n",
      "\\tophline\n",
      " & T\\textsubscript{s} & TOA OLR & $\\alpha_\\text{p}$ \\\\\n",
      "GCM &  &  &  \\\\\n",
      "\\middlehline\n",
      "LFRic-Atmosphere & 207 & 161 & 0.29 \\\\\n",
      "\\bottomhline\n",
      "\n",
      "{} & \\multicolumn{3}{c}{Ben 2} \\\\\n",
      "\\tophline\n",
      " & T\\textsubscript{s} & TOA OLR & $\\alpha_\\text{p}$ \\\\\n",
      "GCM &  &  &  \\\\\n",
      "\\middlehline\n",
      "LFRic-Atmosphere & 238 & 182 & 0.19 \\\\\n",
      "\\bottomhline\n",
      "\n",
      "{} & \\multicolumn{3}{c}{Hab 1} \\\\\n",
      "\\tophline\n",
      " & T\\textsubscript{s} & TOA OLR & $\\alpha_\\text{p}$ \\\\\n",
      "GCM &  &  &  \\\\\n",
      "\\middlehline\n",
      "LFRic-Atmosphere & 242 & 187 & 0.17 \\\\\n",
      "\\bottomhline\n",
      "\n",
      "{} & \\multicolumn{3}{c}{Hab 2} \\\\\n",
      "\\tophline\n",
      " & T\\textsubscript{s} & TOA OLR & $\\alpha_\\text{p}$ \\\\\n",
      "GCM &  &  &  \\\\\n",
      "\\middlehline\n",
      "LFRic-Atmosphere & 278 & 206 & 0.10 \\\\\n",
      "\\bottomhline\n",
      "\n"
     ]
    }
   ],
   "source": [
    "for sim_label, sim_prop in THAI_CASES.items():\n",
    "    df = results[sim_label].T\n",
    "    formatters = {\n",
    "        k: {j[\"title\"]: j[\"fmt\"] for j in DIAGS.values()}[k] for k in df.columns\n",
    "    }\n",
    "    column_format = \"l\" + \"c\" * len(DIAGS)\n",
    "    print(\n",
    "        rf\"{{}} & \\multicolumn{{{len(DIAGS)}}}{{c}}{{{sim_prop['title']}}} \\\\\", end=\"\\r\"\n",
    "    )\n",
    "    latex_str = df.to_latex(\n",
    "        formatters=formatters,\n",
    "        column_format=column_format,\n",
    "        escape=False,\n",
    "    )\n",
    "    latex_str = latex_str.replace(rf\"\\begin{{tabular}}{{{column_format}}}\", \"\")\n",
    "    latex_str = latex_str.replace(\"\\end{tabular}\\n\", \"\")\n",
    "    latex_str = latex_str.replace(\"toprule\", \"tophline\")\n",
    "    latex_str = latex_str.replace(\"midrule\", \"middlehline\")\n",
    "    latex_str = latex_str.replace(\"bottomrule\", \"bottomhline\")\n",
    "    print(latex_str)"
   ]
  }
 ],
 "metadata": {
  "kernelspec": {
   "display_name": "Python [conda env:lfric_ana]",
   "language": "python",
   "name": "conda-env-lfric_ana-py"
  },
  "language_info": {
   "codemirror_mode": {
    "name": "ipython",
    "version": 3
   },
   "file_extension": ".py",
   "mimetype": "text/x-python",
   "name": "python",
   "nbconvert_exporter": "python",
   "pygments_lexer": "ipython3",
   "version": "3.11.2"
  }
 },
 "nbformat": 4,
 "nbformat_minor": 5
}
