{
 "cells": [
  {
   "cell_type": "code",
   "execution_count": 1,
   "id": "d7d08cdf-ac18-411c-88a0-17fd685b5902",
   "metadata": {},
   "outputs": [],
   "source": [
    "from functools import partial\n",
    "from typing import Callable, Optional, Sequence, Union"
   ]
  },
  {
   "cell_type": "code",
   "execution_count": 2,
   "id": "99265895-f158-4114-beb1-3b77509ecdbd",
   "metadata": {},
   "outputs": [],
   "source": [
    "import cartopy.crs as ccrs\n",
    "import geovista as gv\n",
    "import geovista.theme\n",
    "import numpy as np\n",
    "import pyvista as pv"
   ]
  },
  {
   "cell_type": "code",
   "execution_count": 3,
   "id": "ee896c1c-c86b-4573-b2b1-e59202f843b0",
   "metadata": {},
   "outputs": [],
   "source": [
    "import iris"
   ]
  },
  {
   "cell_type": "code",
   "execution_count": 4,
   "id": "4fc7e5df-6205-49ca-936b-52b5714ffb2d",
   "metadata": {},
   "outputs": [],
   "source": [
    "import paths\n",
    "from lfric_util import add_um_height_coord, load_lfric_raw"
   ]
  },
  {
   "cell_type": "code",
   "execution_count": 5,
   "id": "53b255d7-8c5d-47b3-9c5c-2909cf87c71e",
   "metadata": {},
   "outputs": [],
   "source": [
    "from aeolus.calc import wind_speed\n",
    "from aeolus.subset import DimConstr"
   ]
  },
  {
   "cell_type": "code",
   "execution_count": 6,
   "id": "7fa046d9-1c86-44ce-b315-954e716ebbd8",
   "metadata": {},
   "outputs": [],
   "source": [
    "from aeolus.model.base import Model\n",
    "\n",
    "lfric = Model(\n",
    "    # Coordinates\n",
    "    t=\"time\",\n",
    "    z=\"level_height\",\n",
    "    s=\"atmosphere_hybrid_sigma_pressure_coordinate\",\n",
    "    lev=\"full_levels\",\n",
    "    y=\"latitude\",\n",
    "    x=\"longitude\",\n",
    "    # Variables\n",
    "    u=\"u_in_w3\",\n",
    "    v=\"v_in_w3\",\n",
    "    w=\"w_in_wth\",\n",
    "    pres=\"pressure_in_wth\",\n",
    "    thta=\"theta\",\n",
    "    # exner=\"exner_pressure\",\n",
    "    exner=\"exner_in_wth\",\n",
    "    temp=\"temperature\",\n",
    "    t_sfc=\"grid_surface_temperature\",\n",
    "    dens=\"density\",\n",
    "    p_sfc=\"pmsl\",\n",
    "    ghgt=\"geopotential_height\",\n",
    "    toa_isr=\"sw_direct_toa\",\n",
    "    toa_osr=\"sw_up_toa\",\n",
    "    toa_olr=\"lw_up_toa\",\n",
    "    caf=\"cloud_amount_maxrnd\",\n",
    "    sfc_dn_sw=\"sw_dn_surf\",\n",
    "    sfc_dn_lw=\"lw_dn_surf\",\n",
    "    # sfc_up_lw=\"lw_up_surf\",\n",
    "    # sfc_up_sw=\"sw_up_surf\",\n",
    ")\n",
    "\n",
    "DC = DimConstr(model=lfric)"
   ]
  },
  {
   "cell_type": "code",
   "execution_count": 7,
   "id": "fc6a367a-2e5b-43fd-9230-86b0837f69bc",
   "metadata": {},
   "outputs": [],
   "source": [
    "inpdir = paths.results_raw_lfric / \"thai_hab1\"\n",
    "c_num = 48\n",
    "fnames = sorted(\n",
    "    inpdir.glob(f\"*/*{c_num}*/lfric_diag.nc\"),\n",
    "    key=lambda x: int(x.parent.parent.name),\n",
    ")"
   ]
  },
  {
   "cell_type": "code",
   "execution_count": 8,
   "id": "7f78f54b-8173-423b-8bb7-c78c0dc01248",
   "metadata": {},
   "outputs": [],
   "source": [
    "add_levs = partial(\n",
    "    add_um_height_coord,\n",
    "    path_to_levels_file=paths.vert / \"vertlevs_L38_29t_9s_40km\",\n",
    ")"
   ]
  },
  {
   "cell_type": "code",
   "execution_count": 9,
   "id": "1e66c3ad-63c8-4252-84b7-83c9aabbb159",
   "metadata": {},
   "outputs": [],
   "source": [
    "cl = load_lfric_raw(fnames[-1], callback=add_levs)"
   ]
  },
  {
   "cell_type": "code",
   "execution_count": 10,
   "id": "b62ccaaf-afb9-4532-b4c4-da65c3830d33",
   "metadata": {},
   "outputs": [],
   "source": [
    "def cube2d_to_mesh(\n",
    "    cube2d: iris.cube.Cube,\n",
    "    vmin: Optional[float] = None,\n",
    "    vmax: Optional[float] = None,\n",
    "    **kwargs\n",
    ") -> pv.PolyData:\n",
    "    \"\"\"Construct a spherical mesh from a 2D iris cube using geovista.\"\"\"\n",
    "    data = cube2d.data\n",
    "    if vmin is None and vmax is None:\n",
    "        data = data.copy()\n",
    "    elif vmin is None and vmax is not None:\n",
    "        data = np.ma.masked_greater(data, vmax)\n",
    "    elif vmin is not None and vmax is None:\n",
    "        data = np.ma.masked_less(data, vmin)\n",
    "    else:\n",
    "        data = np.ma.masked_outside(data, vmin, vmax)\n",
    "    mesh = gv.Transform.from_unstructured(\n",
    "        *[i.points for i in cube2d.mesh.node_coords],\n",
    "        cube2d.mesh.face_node_connectivity.indices_by_location(),\n",
    "        data=data,\n",
    "        start_index=cube2d.mesh.face_node_connectivity.start_index,\n",
    "        **kwargs\n",
    "    )\n",
    "    return mesh"
   ]
  },
  {
   "cell_type": "code",
   "execution_count": 11,
   "id": "42aa6cec-b200-4df2-af5b-27ea66066c35",
   "metadata": {},
   "outputs": [
    {
     "name": "stdout",
     "output_type": "stream",
     "text": [
      "temperature\n",
      "tot_col_m_ci\n",
      "tot_col_m_cl\n",
      "tot_col_m_v\n",
      "cloud_amount_maxrnd\n",
      "u_in_w3\n",
      "grid_surface_temperature\n",
      "v_in_w3\n",
      "pressure_in_wth\n",
      "lw_down_surf\n",
      "sw_down_surf\n",
      "lw_up_surf\n",
      "sw_up_surf\n",
      "sw_direct_toa\n",
      "lw_up_toa\n",
      "sw_up_toa\n",
      "w_in_wth\n"
     ]
    }
   ],
   "source": [
    "for cube in cl.extract(DC.relax.t):\n",
    "    print(f\"{cube.var_name}\")"
   ]
  },
  {
   "cell_type": "code",
   "execution_count": 12,
   "id": "ffac2f1e-e64d-44c8-851e-d64d625ce807",
   "metadata": {},
   "outputs": [],
   "source": [
    "t_idx = -2\n",
    "\n",
    "t_sfc = cl.extract_cube(\"grid_surface_temperature\")[t_idx, ...]\n",
    "u = cl.extract_cube(\"u_in_w3\")[t_idx, ...]\n",
    "u.units = \"m s-1\"\n",
    "v = cl.extract_cube(\"v_in_w3\")[t_idx, ...]\n",
    "v.units = \"m s-1\"\n",
    "wspd = wind_speed(u, v)"
   ]
  },
  {
   "cell_type": "code",
   "execution_count": 13,
   "id": "93091218-7086-4c3c-8b66-582fc752aa0e",
   "metadata": {},
   "outputs": [],
   "source": [
    "# cloud_amount_maxrnd = cl.extract_cube(\"cloud_amount_maxrnd\")[t_idx, ...]\n",
    "# tot_col_m_ci = cl.extract_cube(\"tot_col_m_ci\")[t_idx, ...]\n",
    "# tot_col_m_cl = cl.extract_cube(\"tot_col_m_cl\")[t_idx, ...]\n",
    "# tot_col_m_v = cl.extract_cube(\"tot_col_m_v\")[t_idx, ...]\n",
    "# tot_col_m_ci_mesh = cube2d_to_mesh(tot_col_m_ci)\n",
    "# tot_col_m_cl_mesh = cube2d_to_mesh(tot_col_m_cl)\n",
    "# tot_col_m_v_mesh = cube2d_to_mesh(tot_col_m_v)\n",
    "# cloud_amount_maxrnd_mesh = cube2d_to_mesh(cloud_amount_maxrnd)"
   ]
  },
  {
   "cell_type": "code",
   "execution_count": 14,
   "id": "526ba653-93b7-4587-9bd7-dae910817060",
   "metadata": {},
   "outputs": [],
   "source": [
    "t_sfc_mesh = cube2d_to_mesh(t_sfc, name=t_sfc.var_name)\n",
    "\n",
    "wspd_mesh = cube2d_to_mesh(wspd[22, ...], name=wspd.name())  # , vmin=30, radius=1.0)"
   ]
  },
  {
   "cell_type": "code",
   "execution_count": 15,
   "id": "c85cdf31-ed35-4445-989d-7a93ebd77998",
   "metadata": {},
   "outputs": [],
   "source": [
    "plotter = gv.GeoPlotter(window_size=[1000, 500], shape=(1, 2))\n",
    "# plotter.add_mesh(\n",
    "#     w_mesh,\n",
    "#     show_scalar_bar=True,\n",
    "#     # cmap=\"coolwarm\",\n",
    "#     # clim=[-0.1, 0.1],\n",
    "#     # show_edges=True,\n",
    "#     edge_color=\"#444444\",\n",
    "#     lighting=True,\n",
    "#     # nan_opacity=0,\n",
    "#     # nan_color=\"k\",\n",
    "#     # n_colors=10,\n",
    "# )\n",
    "light = pv.Light(\n",
    "    position=(1.75 * np.pi, -1 * np.pi, 2),\n",
    "    # show_actor=True,\n",
    "    positional=True,\n",
    "    cone_angle=20,\n",
    "    exponent=10,\n",
    "    intensity=0.15,\n",
    ")\n",
    "plotter.add_mesh(\n",
    "    t_sfc_mesh,\n",
    "    show_scalar_bar=False,\n",
    "    cmap=\"plasma\",\n",
    "    clim=[200, 290],\n",
    "    show_edges=True,\n",
    "    edge_color=\"#444444\",\n",
    "    lighting=True,\n",
    "    ambient=0.25,\n",
    ")\n",
    "plotter.add_scalar_bar(title=\"[K]\", label_font_size=10, fmt=\"%.0f\")\n",
    "plotter.add_axes()\n",
    "plotter.view_vector((1, 0.5, 0.25))\n",
    "plotter.add_text(\n",
    "    \"(a) Surface Temperature, Day Side\",\n",
    "    position=(0.025, 0.875),\n",
    "    viewport=True,\n",
    "    font_size=12,\n",
    ")\n",
    "plotter.add_text(\n",
    "    \"LFRic THAI Hab 1 on C48 Mesh\", position=(0.025, 0.925), viewport=True, font_size=16\n",
    ")\n",
    "plotter.add_light(light)\n",
    "\n",
    "plotter.subplot(0, 1)\n",
    "plotter.add_mesh(\n",
    "    wspd_mesh,\n",
    "    show_scalar_bar=False,\n",
    "    cmap=\"viridis\",\n",
    "    clim=[10, 90],\n",
    "    show_edges=True,\n",
    "    edge_color=\"#444444\",\n",
    "    lighting=True,\n",
    "    ambient=0.25,\n",
    ")\n",
    "plotter.add_axes()\n",
    "plotter.view_vector((-0.5, 0.75, 0.25))\n",
    "# plotter.view_xz()\n",
    "plotter.add_text(\n",
    "    \"(b) Wind Speed at 10 km, Night Side\",\n",
    "    position=(0.025, 0.875),\n",
    "    viewport=True,\n",
    "    font_size=12,\n",
    ")\n",
    "plotter.add_scalar_bar(title=\"[m/s]\", label_font_size=10, fmt=\"%.0f\")\n",
    "# plotter.add_light(light)\n",
    "\n",
    "# plotter.show(jupyter_backend=\"panel\")\n",
    "# plotter.show(jupyter_backend=\"static\")\n",
    "plotter.save_graphic(paths.figures / f\"thai_hab1___gv__t_sfc_wspd_10km.pdf\")"
   ]
  },
  {
   "cell_type": "code",
   "execution_count": null,
   "id": "fb333cfc-9a7b-4d71-91cd-e9685ea6c2f9",
   "metadata": {},
   "outputs": [],
   "source": []
  }
 ],
 "metadata": {
  "kernelspec": {
   "display_name": "Python [conda env:geovista-dev]",
   "language": "python",
   "name": "conda-env-geovista-dev-py"
  },
  "language_info": {
   "codemirror_mode": {
    "name": "ipython",
    "version": 3
   },
   "file_extension": ".py",
   "mimetype": "text/x-python",
   "name": "python",
   "nbconvert_exporter": "python",
   "pygments_lexer": "ipython3",
   "version": "3.10.8"
  }
 },
 "nbformat": 4,
 "nbformat_minor": 5
}
