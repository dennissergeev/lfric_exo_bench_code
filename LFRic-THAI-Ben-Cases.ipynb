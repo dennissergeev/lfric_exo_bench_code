{
 "cells": [
  {
   "cell_type": "markdown",
   "id": "41df7253-dc2c-4708-9764-caa8788b2f21",
   "metadata": {
    "tags": []
   },
   "source": [
    "# Basic visualisation of THAI LFRic simulations"
   ]
  },
  {
   "cell_type": "markdown",
   "id": "9ff9b0b1-ee28-4b66-ba2a-4b098ea19034",
   "metadata": {
    "tags": []
   },
   "source": [
    "### Synopsis"
   ]
  },
  {
   "cell_type": "markdown",
   "id": "6a178d36-79e1-4f33-80f8-bae165a31116",
   "metadata": {},
   "source": [
    "This notebook goes through the following steps:\n",
    "1. Load LFRic output using `iris`, thus representing each of the output variables as `iris.cube.Cube`.\n",
    "2. Regrid the cubes from unstructured grid to regular rectilinear lat-lon grid using `iris-esmf-regrid`.\n",
    "3. Average the data over time and/or longitude using functions from `aeolus`.\n",
    "4. Plot the results and save them to the `../plots/` directory."
   ]
  },
  {
   "cell_type": "markdown",
   "id": "718f2504-c4d3-497a-96fe-ee5ce33a5795",
   "metadata": {},
   "source": [
    "Special thanks to Paul Earnshaw for the help with regridding LFRic output."
   ]
  },
  {
   "cell_type": "markdown",
   "id": "0a5e6189-0339-4928-bb82-d4fc4a985035",
   "metadata": {
    "tags": []
   },
   "source": [
    "### Import the necessary libraries"
   ]
  },
  {
   "cell_type": "markdown",
   "id": "8095c206-be04-4146-acaf-e4f8a81009fd",
   "metadata": {},
   "source": [
    "Standard library"
   ]
  },
  {
   "cell_type": "code",
   "execution_count": null,
   "id": "532b7eb1-1f26-4fbc-967f-ff004fdee7c3",
   "metadata": {},
   "outputs": [],
   "source": [
    "import warnings\n",
    "\n",
    "warnings.filterwarnings(\"ignore\")  # noqa"
   ]
  },
  {
   "cell_type": "code",
   "execution_count": null,
   "id": "c301ab7c-6f9c-46a6-b0db-f9c5a1523e74",
   "metadata": {},
   "outputs": [],
   "source": [
    "from functools import partial"
   ]
  },
  {
   "cell_type": "markdown",
   "id": "2afc9e72-b361-4418-8e95-c02d93139af3",
   "metadata": {},
   "source": [
    "Scientific stack"
   ]
  },
  {
   "cell_type": "code",
   "execution_count": null,
   "id": "937392f3-f17e-4cb4-ae4a-a4c9b5d418b5",
   "metadata": {},
   "outputs": [],
   "source": [
    "import esmf_regrid\n",
    "import iris\n",
    "import iris.coord_systems\n",
    "import iris.fileformats\n",
    "import iris.plot as iplt\n",
    "import iris.quickplot as qplt\n",
    "import matplotlib.colors as mcol\n",
    "import matplotlib.patheffects as PathEffects\n",
    "import matplotlib.pyplot as plt\n",
    "import numpy as np\n",
    "from esmf_regrid.experimental.unstructured_scheme import (\n",
    "    MeshToGridESMFRegridder,\n",
    "    regrid_unstructured_to_rectilinear,\n",
    ")\n",
    "from iris.experimental.ugrid import PARSE_UGRID_ON_LOAD\n",
    "\n",
    "# from iris.experimental import stratify\n",
    "from matplotlib.offsetbox import AnchoredText"
   ]
  },
  {
   "cell_type": "code",
   "execution_count": null,
   "id": "daf0d89b-642e-433f-a105-1a48a1734018",
   "metadata": {},
   "outputs": [],
   "source": [
    "print(iris.__version__, esmf_regrid.__version__)"
   ]
  },
  {
   "cell_type": "code",
   "execution_count": null,
   "id": "864436ce-3c8b-4fa8-919a-0e3bde943dd7",
   "metadata": {},
   "outputs": [],
   "source": [
    "from tqdm.notebook import tqdm"
   ]
  },
  {
   "cell_type": "markdown",
   "id": "d4611a0a-2dcb-440b-80e2-36623820a691",
   "metadata": {},
   "source": [
    "aeolus"
   ]
  },
  {
   "cell_type": "code",
   "execution_count": null,
   "id": "37f4cdc7-6245-433f-ba9b-80b2c886ecb9",
   "metadata": {},
   "outputs": [],
   "source": [
    "from aeolus.calc import spatial_mean, time_mean, zonal_mean\n",
    "from aeolus.const import init_const\n",
    "from aeolus.coord import get_cube_rel_days, get_xy_coords, roll_cube_pm180\n",
    "from aeolus.io import create_dummy_cube, load_vert_lev\n",
    "from aeolus.model import um\n",
    "from aeolus.subset import extract_last_n_days"
   ]
  },
  {
   "cell_type": "markdown",
   "id": "f815a387-bbb1-43f4-be9a-d82e70dd2367",
   "metadata": {},
   "source": [
    "local scripts"
   ]
  },
  {
   "cell_type": "code",
   "execution_count": null,
   "id": "6907e1b9-32ce-46b0-92f9-d37f0da87de2",
   "metadata": {},
   "outputs": [],
   "source": [
    "import mypaths\n",
    "from lfric_util import clean_attrs  # add_equally_spaced_height_coord\n",
    "from plot_func import cube_stats_string, figsave, use_style"
   ]
  },
  {
   "cell_type": "code",
   "execution_count": null,
   "id": "8ad4e17d-dee0-4d06-8212-e588a49019fe",
   "metadata": {},
   "outputs": [],
   "source": [
    "def lfric_spatial_mean(cube, model=um):\n",
    "    cube_copy = cube.copy()\n",
    "    tmp_coord = iris.coords.AuxCoord(\n",
    "        points=np.arange(cube.coord(model.x).shape[0]), long_name=\"mesh_coordinates\"\n",
    "    )\n",
    "\n",
    "    cube_copy.add_aux_coord(tmp_coord, data_dims=cube.coord_dims(model.x))\n",
    "\n",
    "    cube_copy.remove_coord(model.x)\n",
    "    cube_copy.remove_coord(model.y)\n",
    "\n",
    "    cube_mean = cube_copy.collapsed(tmp_coord.name(), iris.analysis.MEAN)\n",
    "    cube_mean.remove_coord(tmp_coord)\n",
    "    return cube_mean\n",
    "\n",
    "\n",
    "def broadcast_cube(cube, target_cube, **kwargs):\n",
    "    \"\"\"Broadcast cube to the shape of another cube with at least 1 matching dimension.\"\"\"\n",
    "    kw = {\n",
    "        \"units\": cube.units,\n",
    "        \"long_name\": cube.long_name,\n",
    "        \"standard_name\": cube.standard_name,\n",
    "        \"var_name\": cube.var_name,\n",
    "    }\n",
    "    kw = {**kw, **kwargs}\n",
    "    data_bcast = iris.util.broadcast_to_shape(\n",
    "        cube.data,\n",
    "        target_cube.shape,\n",
    "        dim_map=[target_cube.coord_dims(coord)[0] for coord in cube.dim_coords],\n",
    "    )\n",
    "    tgt_dim_coords = [(c.copy(), target_cube.coord_dims(c)) for c in target_cube.dim_coords]\n",
    "    tgt_aux_coords = [(c.copy(), target_cube.coord_dims(c)) for c in target_cube.aux_coords]\n",
    "    cube_bcast = iris.cube.Cube(\n",
    "        data=data_bcast,\n",
    "        dim_coords_and_dims=tgt_dim_coords,\n",
    "        aux_coords_and_dims=tgt_aux_coords,\n",
    "        **kw,\n",
    "    )\n",
    "    return cube_bcast"
   ]
  },
  {
   "cell_type": "markdown",
   "id": "c84187c0-a577-4fb3-919d-57229ccb8081",
   "metadata": {},
   "source": [
    "### Some global definitions"
   ]
  },
  {
   "cell_type": "markdown",
   "id": "150bb2ba-1f25-439f-b7be-d5b1728bcc85",
   "metadata": {},
   "source": [
    "Apply a custom `matplotlib` style."
   ]
  },
  {
   "cell_type": "code",
   "execution_count": null,
   "id": "0098167c-6403-4ab8-a878-584f0aab7d39",
   "metadata": {},
   "outputs": [],
   "source": [
    "use_style()"
   ]
  },
  {
   "cell_type": "markdown",
   "id": "bd4e8bcb-f899-4f36-a33d-031073d6ba4b",
   "metadata": {},
   "source": [
    "Create a path effects object to highlight contours for later"
   ]
  },
  {
   "cell_type": "code",
   "execution_count": null,
   "id": "e91ad9a9-c851-408e-b4d9-74190c6fd570",
   "metadata": {},
   "outputs": [],
   "source": [
    "PE = [PathEffects.withStroke(linewidth=0.5, foreground=\"w\")]"
   ]
  },
  {
   "cell_type": "markdown",
   "id": "7290824e-74f2-4886-9ca0-0d8e748aa2c8",
   "metadata": {},
   "source": [
    "Select the run configuration"
   ]
  },
  {
   "cell_type": "code",
   "execution_count": null,
   "id": "9f73ae31-c80c-4a57-a679-5f510ebf3971",
   "metadata": {},
   "outputs": [],
   "source": [
    "planet = \"ben1\"\n",
    "SIM_LABEL = \"THAI Ben 1\"\n",
    "const = init_const(planet, directory=mypaths.const)"
   ]
  },
  {
   "cell_type": "code",
   "execution_count": null,
   "id": "bbe017f7-b861-4921-a29f-a4139aec2a2c",
   "metadata": {},
   "outputs": [],
   "source": [
    "kappa = const.dry_air_gas_constant / const.dry_air_spec_heat_press"
   ]
  },
  {
   "cell_type": "markdown",
   "id": "84e94b33-9dc0-4eab-99d0-1392327b9aa1",
   "metadata": {},
   "source": [
    "Common directory where to save plots."
   ]
  },
  {
   "cell_type": "code",
   "execution_count": null,
   "id": "4054968e-747e-4c75-ab52-505619390999",
   "metadata": {},
   "outputs": [],
   "source": [
    "plot_dir = mypaths.plot / \"lfric_plots\""
   ]
  },
  {
   "cell_type": "markdown",
   "id": "8255afde-dd7b-4694-b44a-f02babb3f6eb",
   "metadata": {
    "tags": []
   },
   "source": [
    "### Load the data into a cube list"
   ]
  },
  {
   "cell_type": "markdown",
   "id": "ca2e4817-fc5d-4f99-8de8-1ac11316d0a7",
   "metadata": {},
   "source": [
    "Use a callback function to attach a level height coordinate for convenience."
   ]
  },
  {
   "cell_type": "markdown",
   "id": "7e9d5d04-452a-49dc-a584-4195c169d652",
   "metadata": {},
   "source": [
    "Note: adapt the file path to the one on your machine in the `mypaths.py` script."
   ]
  },
  {
   "cell_type": "code",
   "execution_count": null,
   "id": "2b63ffa5-451f-413a-aaf6-975e51f95ab5",
   "metadata": {},
   "outputs": [],
   "source": [
    "vert_lev = load_vert_lev(mypaths.vert_um / \"vertlevs_L38_29t_9s_40km\")"
   ]
  },
  {
   "cell_type": "code",
   "execution_count": null,
   "id": "38f547b5-0cf4-449d-a834-4c97cb763c6d",
   "metadata": {},
   "outputs": [],
   "source": [
    "# sim_case = \"ben1\"\n",
    "# timestep = 1800\n",
    "sim_case = \"ben2\"\n",
    "timestep = 300\n",
    "with_restart = False\n",
    "rundir = f\"run_lfric_atm_thai_{sim_case}{'with_restart' if with_restart else '_'}C24_dt-{timestep}p0_intel_64-bit_fast-debug\""
   ]
  },
  {
   "cell_type": "code",
   "execution_count": null,
   "id": "60d3727a-bdfe-49e9-9e1e-b11452122a33",
   "metadata": {},
   "outputs": [],
   "source": [
    "with PARSE_UGRID_ON_LOAD.context():\n",
    "    exner_ben2 = iris.load_cube(\n",
    "        str(mypaths.results_lfric / \"thai\" / sim_case / \"1\" / rundir / \"lfric_initial.nc\"), \"exner\"\n",
    "    )\n",
    "    exner_ben1 = iris.load_cube(\n",
    "        str(\n",
    "            mypaths.results_lfric\n",
    "            / \"thai\"\n",
    "            / \"ben1\"\n",
    "            / \"1\"\n",
    "            / \"run_lfric_atm_thai_ben1_C24_dt-1800p0_intel_64-bit_fast-debug\"\n",
    "            / \"lfric_initial.nc\"\n",
    "        ),\n",
    "        \"exner\",\n",
    "    )\n",
    "    exner_ben2_changed_cp_rd = iris.load_cube(\n",
    "        str(\n",
    "            mypaths.results_lfric\n",
    "            / \"thai\"\n",
    "            / \"ben2_changed_cp_rd\"\n",
    "            / \"1\"\n",
    "            / \"run_lfric_atm_thai_ben2_C24_dt-300p0_intel_64-bit_fast-debug\"\n",
    "            / \"lfric_initial.nc\"\n",
    "        ),\n",
    "        \"exner\",\n",
    "    )\n",
    "    exner_ben2_changed_rd = iris.load_cube(\n",
    "        str(\n",
    "            mypaths.results_lfric\n",
    "            / \"thai\"\n",
    "            / \"ben2_changed_rd\"\n",
    "            / \"1\"\n",
    "            / \"run_lfric_atm_thai_ben2_C24_dt-300p0_intel_64-bit_fast-debug\"\n",
    "            / \"lfric_initial.nc\"\n",
    "        ),\n",
    "        \"exner\",\n",
    "    )\n",
    "# for cube in sdump:\n",
    "#     print(f\"{cube.var_name:<40} | {cube.name():<50} | {cube.data.min():<10.1e} | {cube.data.max():<10.1e}\")"
   ]
  },
  {
   "cell_type": "code",
   "execution_count": null,
   "id": "a113551b-db61-4c48-a942-d7447841f04c",
   "metadata": {},
   "outputs": [],
   "source": [
    "qplt.plot(exner_ben1[:, 111], exner_ben1[:, 111].coord(\"half_levels\"), linewidth=5, label=\"Ben 1: $c_p=1039, r_d=297$\")\n",
    "qplt.plot(exner_ben2[:, 111], exner_ben1[:, 111].coord(\"half_levels\"), label=\"Ben 2: $c_p=844, r_d=188.92$ (FAILS)\")\n",
    "qplt.plot(exner_ben2_changed_cp_rd[:, 111], exner_ben1[:, 111].coord(\"half_levels\"), label=\"Ben 2: $c_p=1039, r_d=297$\")\n",
    "qplt.plot(exner_ben2_changed_rd[:, 111], exner_ben1[:, 111].coord(\"half_levels\"), label=\"Ben 2: $c_p=844, r_d=297$\")\n",
    "plt.legend()"
   ]
  },
  {
   "cell_type": "code",
   "execution_count": null,
   "id": "45181e38-7241-4de6-bf2d-a14a7fa694a4",
   "metadata": {},
   "outputs": [],
   "source": [
    "# with PARSE_UGRID_ON_LOAD.context():\n",
    "    # sdump = iris.load(str(mypaths.start_dumps_lfric / \"exoplanet\" / \"Quagga\" / \"thai_ben1_C24L38.nc\"))\n",
    "\n",
    "# cube = sdump.extract_cube(\"air_density\")\n",
    "\n",
    "# fig, ax = plt.subplots()\n",
    "# p0 = ax.scatter(\n",
    "#     cube.coord(um.x).points,\n",
    "#     cube.coord(um.y).points,\n",
    "#     c=cube.data[0, ...],\n",
    "#     s=2**4, \n",
    "# )\n",
    "# fig.colorbar(p0)\n",
    "# print(f\"{'var_name':<40} | {'min':<10} | {'max':<10}\")\n",
    "# print(\"-\"*63)\n",
    "# for cube in sdump:\n",
    "#     print(f\"{cube.var_name:<40} | {cube.data.min():<10.1e} | {cube.data.max():<10.1e}\")"
   ]
  },
  {
   "cell_type": "code",
   "execution_count": null,
   "id": "b1cb6475-1631-4632-bcfb-91cef539c284",
   "metadata": {},
   "outputs": [],
   "source": [
    "fnames = [\n",
    "    str(i)\n",
    "    for i in sorted(\n",
    "        (mypaths.results_lfric / \"thai\" / sim_case).glob(f\"*/{rundir}/lfric_diag.nc\"),\n",
    "        key=lambda x: int(x.parent.parent.name),\n",
    "    )\n",
    "]\n",
    "fnames = fnames[10:]"
   ]
  },
  {
   "cell_type": "code",
   "execution_count": null,
   "id": "82e32ba1-6a21-4d02-a9cd-47ec20a512f9",
   "metadata": {},
   "outputs": [],
   "source": [
    "%%time\n",
    "with PARSE_UGRID_ON_LOAD.context():\n",
    "    # cl = iris.load(fnames, callback=clean_attrs)\n",
    "    cl_no_callback = iris.load(fnames)"
   ]
  },
  {
   "cell_type": "code",
   "execution_count": null,
   "id": "93550a75-fc7e-4685-8d17-80bde5d36b1b",
   "metadata": {},
   "outputs": [],
   "source": [
    "%%time\n",
    "# cl = iris.cube.CubeList()\n",
    "for cube in cl_no_callback:\n",
    "    try:\n",
    "        cube.attributes.pop(\"timeStamp\")\n",
    "        cube.attributes.pop(\"uuid\")\n",
    "    except KeyError:\n",
    "        pass\n",
    "cl = cl_no_callback.concatenate(check_aux_coords=False)"
   ]
  },
  {
   "cell_type": "markdown",
   "id": "15f35491-57e0-4cea-b2fc-6bfbf4b0be77",
   "metadata": {},
   "source": [
    "Print available names for key variables."
   ]
  },
  {
   "cell_type": "code",
   "execution_count": null,
   "id": "af03bdf6-a007-431f-955c-fa2ec50bcc90",
   "metadata": {},
   "outputs": [],
   "source": [
    "for cube in cl.extract(\n",
    "    [\n",
    "        \"surface_tile_temperature\",\n",
    "        \"air_potential_temperature\",\n",
    "        \"eastward_wind\",\n",
    "        \"northward_wind\",\n",
    "        \"vertical wind on physics points\",\n",
    "    ]\n",
    "):\n",
    "    print(f\"{cube.long_name:<50} | {cube.var_name:<20}\")"
   ]
  },
  {
   "cell_type": "code",
   "execution_count": null,
   "id": "5a08d910-f2a0-4305-b38a-13ab8c249a49",
   "metadata": {},
   "outputs": [],
   "source": [
    "# sfc_tile_frac = cl.extract_cube(\"surface_tile_fraction\")\n",
    "sfc_tile_temp = cl.extract_cube(\"surface_tile_temperature\")[:, 9, :]"
   ]
  },
  {
   "cell_type": "code",
   "execution_count": null,
   "id": "23856825-2554-4b63-875f-16c5095cf8aa",
   "metadata": {},
   "outputs": [],
   "source": [
    "plt.plot(get_cube_rel_days(sfc_tile_temp), lfric_spatial_mean(sfc_tile_temp).data, marker=\".\")"
   ]
  },
  {
   "cell_type": "code",
   "execution_count": null,
   "id": "5b466cdf-cdb1-400f-8763-17d0f49a36bf",
   "metadata": {},
   "outputs": [],
   "source": [
    "u = cl.extract_cube(iris.Constraint(cube_func=lambda cube: cube.var_name == \"u1\"))\n",
    "v = cl.extract_cube(iris.Constraint(cube_func=lambda cube: cube.var_name == \"u2\"))"
   ]
  },
  {
   "cell_type": "code",
   "execution_count": null,
   "id": "e30b4a14-e664-41c1-8538-758f0689dedf",
   "metadata": {},
   "outputs": [],
   "source": [
    "xy_slice = slice(None, None, 2)"
   ]
  },
  {
   "cell_type": "code",
   "execution_count": null,
   "id": "4048c0d2-3171-4f60-929e-ba063461f13e",
   "metadata": {},
   "outputs": [],
   "source": [
    "fig, ax = plt.subplots()\n",
    "p0 = ax.scatter(\n",
    "    sfc_tile_temp.coord(um.x).points,\n",
    "    sfc_tile_temp.coord(um.y).points,\n",
    "    c=sfc_tile_temp.data[-1, ...],\n",
    ")\n",
    "# fig.colorbar(p0)\n",
    "\n",
    "ax.quiver(\n",
    "    u.coord(um.x).points[xy_slice],\n",
    "    u.coord(um.y).points[xy_slice],\n",
    "    u.data[-1, 20, xy_slice],\n",
    "    v.data[-1, 20, xy_slice],\n",
    ")"
   ]
  },
  {
   "cell_type": "code",
   "execution_count": null,
   "id": "222af232-ce3c-4d58-8ccd-b6cd3ea2c69e",
   "metadata": {},
   "outputs": [],
   "source": [
    "theta = cl.extract_cube(iris.Constraint(cube_func=lambda cube: cube.var_name == \"theta\"))\n",
    "\n",
    "theta_ss = theta.extract(iris.Constraint(full_levels=lambda x: x < 6, latitude=0, longitude=0))[\n",
    "    ..., 0\n",
    "]\n",
    "\n",
    "fig, ax = plt.subplots()\n",
    "ax.pcolormesh(theta_ss.coord(\"time\").points, theta_ss.coord(\"full_levels\").points, theta_ss.data.T)"
   ]
  },
  {
   "cell_type": "markdown",
   "id": "65b58762-487f-4de9-9749-e95d68f51172",
   "metadata": {
    "tags": []
   },
   "source": [
    "### Regrid the data to rectilinear latitude-longitude grid"
   ]
  },
  {
   "cell_type": "markdown",
   "id": "c32a4e5c-a1c1-4891-b224-83c31131b3a6",
   "metadata": {},
   "source": [
    "Extract the `eastward_wind` in W3 points (otherwise regridding fails for some reason)."
   ]
  },
  {
   "cell_type": "code",
   "execution_count": null,
   "id": "6507c14a-b2c4-4dde-b29a-f977c1be15e4",
   "metadata": {},
   "outputs": [],
   "source": [
    "u_w3 = cl.extract_cube(iris.Constraint(cube_func=lambda cube: cube.var_name == \"u1_in_w3\"))"
   ]
  },
  {
   "cell_type": "code",
   "execution_count": null,
   "id": "7e98e3d3-454c-48f1-9bf9-0626559f22a3",
   "metadata": {},
   "outputs": [],
   "source": [
    "exner = cl.extract_cube(iris.Constraint(cube_func=lambda cube: cube.var_name == \"exner\"))"
   ]
  },
  {
   "cell_type": "markdown",
   "id": "490cb8a4-8f25-4a02-b106-9554cf610ed3",
   "metadata": {},
   "source": [
    "$$\\Pi=\\left(\\frac{p}{p_{0}}\\right)^{R_{d} / c_{p}}=\\frac{T}{\\theta}$$"
   ]
  },
  {
   "cell_type": "code",
   "execution_count": null,
   "id": "f3179545-5c95-4565-8252-f0f996c21357",
   "metadata": {},
   "outputs": [],
   "source": [
    "pres = exner.copy(data=const.reference_surface_pressure.data * (exner.data ** (1 / kappa.data)))\n",
    "pres.rename(\"air_pressure\")\n",
    "pres.units = \"Pa\""
   ]
  },
  {
   "cell_type": "code",
   "execution_count": null,
   "id": "c98aa5e0-1469-4d14-acb1-727f61c0d105",
   "metadata": {},
   "outputs": [],
   "source": [
    "pres_tm = time_mean(extract_last_n_days(pres, 61))\n",
    "\n",
    "u_w3_tm = time_mean(extract_last_n_days(u_w3, 61))"
   ]
  },
  {
   "cell_type": "markdown",
   "id": "811b9c65-fb5d-4c92-bcf8-94ee4c34085b",
   "metadata": {},
   "source": [
    "Create a dummy 2D cube with a UM-like grid. Use +/- 180 degrees to match LFRic, for convenience"
   ]
  },
  {
   "cell_type": "code",
   "execution_count": null,
   "id": "96341af4-5868-4d1c-9fc0-5ef0e448ee6c",
   "metadata": {},
   "outputs": [],
   "source": [
    "tgt_cube = create_dummy_cube(\n",
    "    nlat=90, nlon=144, pm180=True\n",
    ")  # Use a non-standard number of points to match UoE SA suites"
   ]
  },
  {
   "cell_type": "code",
   "execution_count": null,
   "id": "486b3c87-0dc7-49eb-8a0f-1ea4720e6916",
   "metadata": {},
   "outputs": [],
   "source": [
    "u_reg_tm = regrid_unstructured_to_rectilinear(u_w3_tm, tgt_cube)\n",
    "pres_reg_tm = regrid_unstructured_to_rectilinear(pres_tm, tgt_cube)"
   ]
  },
  {
   "cell_type": "code",
   "execution_count": null,
   "id": "ec59c5a0-0e39-4c8c-8a38-4aa7961e4cde",
   "metadata": {},
   "outputs": [],
   "source": [
    "fig, ax = plt.subplots()\n",
    "ax.set_yscale(\"log\")\n",
    "ax.set_ylim(1000, 1)\n",
    "ax.set_yticks([1000, 100, 10, 1])\n",
    "ax.set_yticklabels([1000, 100, 10, 1])\n",
    "p0 = ax.contourf(\n",
    "    u_reg_tm.coord(\"latitude\").points,\n",
    "    spatial_mean(pres_reg_tm).data * 1e-2,\n",
    "    zonal_mean(u_reg_tm).data,\n",
    "    cmap=\"RdYlBu_r\",\n",
    "    levels=np.arange(-100, 101, 10),\n",
    "    extend=\"both\",\n",
    ")\n",
    "p1 = ax.contour(\n",
    "    u_reg_tm.coord(\"latitude\").points,\n",
    "    spatial_mean(pres_reg_tm).data * 1e-2,\n",
    "    zonal_mean(u_reg_tm).data,\n",
    "    colors=\"#333333\",\n",
    "    levels=np.arange(-100, 101, 10),\n",
    ")\n",
    "ax.clabel(p1, fmt=\"%.0f\", colors=\"#333333\")\n",
    "fig.colorbar(p0)"
   ]
  },
  {
   "cell_type": "markdown",
   "id": "63364541-54b0-4af6-8d68-f279d7182734",
   "metadata": {},
   "source": [
    "For regridding many cubes at once, it's better to cache the regridder."
   ]
  },
  {
   "cell_type": "code",
   "execution_count": null,
   "id": "06c57bd1-5c55-4660-97f1-29c43d98e92b",
   "metadata": {},
   "outputs": [],
   "source": [
    "regridder = MeshToGridESMFRegridder(u, tgt_cube)\n",
    "cl_reg = iris.cube.CubeList()\n",
    "for cube in cl:\n",
    "    try:\n",
    "        cl_reg.append(regridder(cube))\n",
    "    except (AssertionError, ValueError):\n",
    "        # For some cubes this fails\n",
    "        # TODO: investigate!\n",
    "        pass"
   ]
  }
 ],
 "metadata": {
  "kernelspec": {
   "display_name": "Python [conda env:ideal_exo]",
   "language": "python",
   "name": "conda-env-ideal_exo-py"
  },
  "language_info": {
   "codemirror_mode": {
    "name": "ipython",
    "version": 3
   },
   "file_extension": ".py",
   "mimetype": "text/x-python",
   "name": "python",
   "nbconvert_exporter": "python",
   "pygments_lexer": "ipython3",
   "version": "3.8.12"
  }
 },
 "nbformat": 4,
 "nbformat_minor": 5
}
