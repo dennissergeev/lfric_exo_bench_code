{
 "cells": [
  {
   "cell_type": "code",
   "execution_count": null,
   "id": "be764778-c04f-483f-8bc6-c9c16fdd8ff6",
   "metadata": {},
   "outputs": [],
   "source": [
    "# %load /home/ds591/sandbox/geovista/examples/example_from_unstructured__lfric_orog_warp.py\n",
    "import iris\n",
    "from iris.experimental.ugrid import PARSE_UGRID_ON_LOAD"
   ]
  },
  {
   "cell_type": "code",
   "execution_count": null,
   "id": "743cc35e-3eee-46a1-81d9-4a97d0b5f911",
   "metadata": {},
   "outputs": [],
   "source": [
    "import geovista as gv"
   ]
  },
  {
   "cell_type": "code",
   "execution_count": null,
   "id": "bbbb6416-a492-4afd-aa71-2e00701365d3",
   "metadata": {},
   "outputs": [],
   "source": [
    "from aeolus.coord import isel\n",
    "from aeolus.model import um"
   ]
  },
  {
   "cell_type": "code",
   "execution_count": null,
   "id": "fa6a16c5-c5d1-406f-9ea3-84807b34ff15",
   "metadata": {},
   "outputs": [],
   "source": [
    "import mypaths"
   ]
  },
  {
   "cell_type": "code",
   "execution_count": null,
   "id": "5d13ee34-3e64-4294-ae7c-b039f4bf5f3b",
   "metadata": {},
   "outputs": [],
   "source": [
    "maindir = mypaths.results_lfric / \"thai\""
   ]
  },
  {
   "cell_type": "code",
   "execution_count": null,
   "id": "38f547b5-0cf4-449d-a834-4c97cb763c6d",
   "metadata": {},
   "outputs": [],
   "source": [
    "sim_case = \"ben1\"\n",
    "with_restart = False\n",
    "rundir = f\"run_lfric_atm_thai_{sim_case}{'with_restart' if with_restart else '_'}C24_dt-1800p0_intel_64-bit_fast-debug\""
   ]
  },
  {
   "cell_type": "code",
   "execution_count": null,
   "id": "fca922e7-5159-4ddf-bb68-e7ea3c9645b2",
   "metadata": {},
   "outputs": [],
   "source": [
    "fname = str(maindir / sim_case / \"20\" / rundir / \"lfric_diag.nc\")"
   ]
  },
  {
   "cell_type": "code",
   "execution_count": null,
   "id": "4b533611-31ca-453b-b378-22ad5f506c49",
   "metadata": {},
   "outputs": [],
   "source": [
    "with PARSE_UGRID_ON_LOAD.context():\n",
    "    cl = iris.load(fname)"
   ]
  },
  {
   "cell_type": "code",
   "execution_count": null,
   "id": "ba2bdf1b-456b-43b7-873a-7fcbff41499f",
   "metadata": {},
   "outputs": [],
   "source": [
    "sfc_temp = isel(cl.extract_cube(\"surface_tile_temperature\"), um.t, -1)[9, :]\n",
    "u = isel(cl.extract_cube(iris.Constraint(cube_func=lambda cube: cube.var_name == \"u1_in_w3\")), um.t, -1)\n",
    "v = isel(cl.extract_cube(iris.Constraint(cube_func=lambda cube: cube.var_name == \"u2_in_w3\")), um.t, -1)"
   ]
  },
  {
   "cell_type": "code",
   "execution_count": null,
   "id": "399fa062-83c4-43c6-a0e8-198b0d8e3a7d",
   "metadata": {},
   "outputs": [],
   "source": [
    "wspd = u.copy(data=(u.data**2 + v.data**2)**0.5)\n",
    "wspd.rename(\"wind_speed\")"
   ]
  },
  {
   "cell_type": "code",
   "execution_count": null,
   "id": "dd79ca8f-f7a1-4ef6-b4e4-ba8a67f0da14",
   "metadata": {},
   "outputs": [],
   "source": [
    "mesh_sfc = gv.Transform.from_unstructured(\n",
    "    *[i.points for i in sfc_temp.mesh.node_coords],\n",
    "    sfc_temp.mesh.face_node_connectivity.indices_by_src(),\n",
    "    data=sfc_temp.data,\n",
    "    start_index=sfc_temp.mesh.face_node_connectivity.start_index,\n",
    "    name=sfc_temp.name(),\n",
    ")\n",
    "\n",
    "mesh_uv_2d = gv.Transform.from_unstructured(\n",
    "    *[i.points for i in u.mesh.node_coords],\n",
    "    u.mesh.face_node_connectivity.indices_by_src(),\n",
    "    start_index=wspd.mesh.face_node_connectivity.start_index,\n",
    "    name=\"vectors\",\n",
    ")\n",
    "\n",
    "# mesh.compute_normals(cell_normals=False, point_normals=True, inplace=True)\n",
    "# mesh.warp_by_scalar(scalars=\"Normals\", inplace=True, factor=0.1)"
   ]
  },
  {
   "cell_type": "code",
   "execution_count": null,
   "id": "ad841589-844a-441b-af64-211ad481afd1",
   "metadata": {},
   "outputs": [],
   "source": [
    "plotter = gv.GeoPlotter()\n",
    "plotter.add_mesh(mesh_sfc, show_scalar_bar=False, cmap=\"viridis\", show_edges=False, edge_color=\"grey\")\n",
    "plotter.add_axes()\n",
    "plotter.add_text(\n",
    "    \"Unstructured Cube-Sphere Node Data (N, 4)\",\n",
    "    position=\"upper_left\",\n",
    "    font_size=10,\n",
    "    shadow=True,\n",
    ")\n",
    "plotter.show(jupyter_backend=\"panel\")"
   ]
  }
 ],
 "metadata": {
  "kernelspec": {
   "display_name": "Python [conda env:geovista-dev]",
   "language": "python",
   "name": "conda-env-geovista-dev-py"
  },
  "language_info": {
   "codemirror_mode": {
    "name": "ipython",
    "version": 3
   },
   "file_extension": ".py",
   "mimetype": "text/x-python",
   "name": "python",
   "nbconvert_exporter": "python",
   "pygments_lexer": "ipython3",
   "version": "3.10.0"
  }
 },
 "nbformat": 4,
 "nbformat_minor": 5
}
